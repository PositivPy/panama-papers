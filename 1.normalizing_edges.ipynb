{
 "nbformat": 4,
 "nbformat_minor": 2,
 "metadata": {
  "language_info": {
   "name": "python",
   "codemirror_mode": {
    "name": "ipython",
    "version": 3
   },
   "version": "3.7.5-final"
  },
  "orig_nbformat": 2,
  "file_extension": ".py",
  "mimetype": "text/x-python",
  "name": "python",
  "npconvert_exporter": "python",
  "pygments_lexer": "ipython3",
  "version": 3,
  "kernelspec": {
   "name": "python37564bit72ba89a531ef4df18e1af0f065f1e4d6",
   "display_name": "Python 3.7.5 64-bit"
  }
 },
 "cells": [
  {
   "cell_type": "code",
   "execution_count": 1,
   "metadata": {},
   "outputs": [],
   "source": [
    "import pandas\n",
    "\n",
    "N_ROWS = 2"
   ]
  },
  {
   "cell_type": "markdown",
   "execution_count": null,
   "metadata": {},
   "outputs": [],
   "source": [
    "# I. Normalizing Edges:\n",
    "Edges represent links or relationships. They are the connections between the entities, officers, intermediaries and address present in the dataset. "
   ]
  },
  {
   "cell_type": "code",
   "execution_count": 2,
   "metadata": {},
   "outputs": [
    {
     "data": {
      "text/html": "<div>\n<style scoped>\n    .dataframe tbody tr th:only-of-type {\n        vertical-align: middle;\n    }\n\n    .dataframe tbody tr th {\n        vertical-align: top;\n    }\n\n    .dataframe thead th {\n        text-align: right;\n    }\n</style>\n<table border=\"1\" class=\"dataframe\">\n  <thead>\n    <tr style=\"text-align: right;\">\n      <th></th>\n      <th>start_id</th>\n      <th>type</th>\n      <th>end_id</th>\n      <th>text</th>\n    </tr>\n  </thead>\n  <tbody>\n    <tr>\n      <th>0</th>\n      <td>10000035</td>\n      <td>registered_address</td>\n      <td>14095990</td>\n      <td>registered address</td>\n    </tr>\n    <tr>\n      <th>1</th>\n      <td>10000044</td>\n      <td>registered_address</td>\n      <td>14091035</td>\n      <td>registered address</td>\n    </tr>\n  </tbody>\n</table>\n</div>",
      "text/plain": "   start_id                type    end_id                text\n0  10000035  registered_address  14095990  registered address\n1  10000044  registered_address  14091035  registered address"
     },
     "execution_count": 2,
     "metadata": {},
     "output_type": "execute_result"
    }
   ],
   "source": [
    "connections = pandas.read_csv('data/edges.csv', usecols=[0, 1, 2, 3], skiprows=1,\n",
    "                            names=['start_id', 'type', 'end_id', 'text'])\n",
    "connections.head(N_ROWS)"
   ]
  },
  {
   "cell_type": "markdown",
   "execution_count": null,
   "metadata": {},
   "outputs": [],
   "source": [
    "## 1. Normalizing relationship types:\n",
    "Types and counts of the 'relationships':"
   ]
  },
  {
   "cell_type": "code",
   "execution_count": 3,
   "metadata": {},
   "outputs": [
    {
     "data": {
      "text/plain": "type\nintermediary_of       213634\nofficer_of            309363\nregistered_address    151105\ndtype: int64"
     },
     "execution_count": 3,
     "metadata": {},
     "output_type": "execute_result"
    }
   ],
   "source": [
    "connections.groupby('type').size()"
   ]
  },
  {
   "cell_type": "markdown",
   "execution_count": null,
   "metadata": {},
   "outputs": [],
   "source": [
    "Sanitizing the types to better fit the adjacent data."
   ]
  },
  {
   "cell_type": "code",
   "execution_count": 4,
   "metadata": {},
   "outputs": [
    {
     "data": {
      "text/plain": "type\naddress         151105\nintermediary    213634\nofficer         309363\ndtype: int64"
     },
     "execution_count": 4,
     "metadata": {},
     "output_type": "execute_result"
    }
   ],
   "source": [
    "def normalize_type(txt):\n",
    "    if '_of' in txt:\n",
    "        return txt.replace('_of', '')\n",
    "    else:\n",
    "        return txt.replace('registered_', '')\n",
    "\n",
    "connections.type = connections.type.apply(normalize_type)\n",
    "connections.groupby('type').size()"
   ]
  },
  {
   "cell_type": "markdown",
   "execution_count": null,
   "metadata": {},
   "outputs": [],
   "source": [
    "## 2. Normalizing the relationship descriptions:\n",
    "The text column has a lot of outliers and the address' description is a descrepency."
   ]
  },
  {
   "cell_type": "code",
   "execution_count": 5,
   "metadata": {},
   "outputs": [
    {
     "data": {
      "text/plain": "text\nshareholder of                                  293961\nintermediary of                                 213634\nregistered address                              151105\nbeneficiary of                                   15150\nbeneficial owner of                                 79\ndirector of                                         48\npower of attorney of                                29\nowner, director and shareholder of                  28\nowner of                                            16\nbeneficiary, shareholder and director of             6\ndirector / shareholder of                            6\ndirector / beneficial owner of                       4\nsole shareholder of                                  4\nconnected of                                         3\nsecretary of                                         3\nmember of foundation council of                      3\nprincipal beneficiary of                             3\ndirector (rami makhlouf) of                          2\ndirector / shareholder / beneficial owner of         2\nsole signatory of                                    2\nsignatory of                                         2\ngrantee of a mortgage of                             1\nfirst beneficiary of                                 1\nmember / shareholder of                              1\ndirector and shareholder of                          1\nsole signatory / beneficial owner of                 1\npower of attorney / shareholder of                   1\npresident - director of                              1\npresident and director of                            1\npresident of                                         1\nprotector of                                         1\nshareholder (through julex foundation) of            1\nauthorized signatory of                              1\ndtype: int64"
     },
     "execution_count": 5,
     "metadata": {},
     "output_type": "execute_result"
    }
   ],
   "source": [
    "connections.groupby('text').size().sort_values(ascending=False)"
   ]
  },
  {
   "cell_type": "markdown",
   "execution_count": null,
   "metadata": {},
   "outputs": [],
   "source": [
    "Normalizing the type 'address' to read \"start_id is address of end_id\" just like the other types. We thus swap start_id and end_id and update the description."
   ]
  },
  {
   "cell_type": "code",
   "execution_count": 6,
   "metadata": {},
   "outputs": [
    {
     "data": {
      "text/html": "<div>\n<style scoped>\n    .dataframe tbody tr th:only-of-type {\n        vertical-align: middle;\n    }\n\n    .dataframe tbody tr th {\n        vertical-align: top;\n    }\n\n    .dataframe thead th {\n        text-align: right;\n    }\n</style>\n<table border=\"1\" class=\"dataframe\">\n  <thead>\n    <tr style=\"text-align: right;\">\n      <th></th>\n      <th>start_id</th>\n      <th>type</th>\n      <th>end_id</th>\n      <th>text</th>\n    </tr>\n  </thead>\n  <tbody>\n    <tr>\n      <th>0</th>\n      <td>14095990</td>\n      <td>address</td>\n      <td>10000035</td>\n      <td>address of</td>\n    </tr>\n    <tr>\n      <th>1</th>\n      <td>14091035</td>\n      <td>address</td>\n      <td>10000044</td>\n      <td>address of</td>\n    </tr>\n  </tbody>\n</table>\n</div>",
      "text/plain": "   start_id     type    end_id        text\n0  14095990  address  10000035  address of\n1  14091035  address  10000044  address of"
     },
     "execution_count": 6,
     "metadata": {},
     "output_type": "execute_result"
    }
   ],
   "source": [
    "connections['temp'] = connections.start_id.copy()\n",
    "selector = connections.type == 'address'\n",
    "# swap start_id for end_id \n",
    "connections.loc[selector, 'start_id'] = connections.loc[selector, 'end_id']\n",
    "# swap end_id for temp\n",
    "connections.loc[selector, 'end_id'] = connections.loc[selector, 'temp']\n",
    "del connections['temp']\n",
    "\n",
    "connections.loc[connections.type == 'address', 'text'] = 'address of'\n",
    "\n",
    "connections.head(N_ROWS)"
   ]
  },
  {
   "cell_type": "markdown",
   "execution_count": null,
   "metadata": {},
   "outputs": [],
   "source": [
    "Some descriptions like \"director / shareholder / beneficial owner of\"  descrbes three different relationships, we expand them into different rows."
   ]
  },
  {
   "cell_type": "code",
   "execution_count": 7,
   "metadata": {},
   "outputs": [
    {
     "data": {
      "text/plain": "text\nshareholder of                               293961\nintermediary of                              213634\naddress of                                   151105\nbeneficiary of                                15150\nbeneficial owner of                              79\ndirector of                                      48\npower of attorney of                             29\nowner                                            28\nowner of                                         16\ndirector                                         12\nbeneficiary                                       6\nsole shareholder of                               4\nprincipal beneficiary of                          3\nsecretary of                                      3\nconnected of                                      3\nmember of foundation council of                   3\nsignatory of                                      2\ndirector (rami makhlouf) of                       2\nsole signatory of                                 2\npresident of                                      1\nfirst beneficiary of                              1\nshareholder (through julex foundation) of         1\nmember                                            1\nsole signatory                                    1\ndirector                                          1\npower of attorney                                 1\nprotector of                                      1\npresident                                         1\npresident                                         1\nauthorized signatory of                           1\ngrantee of a mortgage of                          1\ndtype: int64"
     },
     "execution_count": 7,
     "metadata": {},
     "output_type": "execute_result"
    }
   ],
   "source": [
    "def normalize_separator(txt):\n",
    "    for ch in [',', '-', ' and']:\n",
    "        if ch in txt:\n",
    "            txt = txt.replace(ch, '/')\n",
    "    return txt\n",
    "\n",
    "connections.text = connections['text'].map(normalize_separator)\n",
    "connections.text = connections['text'].str.split('/', expand=True)\n",
    "\n",
    "connections.groupby('text').size().sort_values(ascending=False)"
   ]
  },
  {
   "cell_type": "markdown",
   "execution_count": null,
   "metadata": {},
   "outputs": [],
   "source": [
    "We futher normalise the descriptions by enforcing 'of' and omiting unwanted details, these details could be moved to the \"note\" column if needed."
   ]
  },
  {
   "cell_type": "code",
   "execution_count": 8,
   "metadata": {},
   "outputs": [
    {
     "data": {
      "text/plain": "text\nshareholder of         293966\nintermediary of        213634\naddress of             151105\nbeneficiary of          15160\nbeneficial owner of        79\ndirector of                63\nowner of                   44\nattorney of                30\nsignatory of                6\nmember of                   4\nsecretary of                3\npresident of                3\nconnected of                3\nprotector of                1\ngrantee of                  1\ndtype: int64"
     },
     "execution_count": 8,
     "metadata": {},
     "output_type": "execute_result"
    }
   ],
   "source": [
    "def enforce_description(txt):\n",
    "    to_del = ['first', 'sole', 'principal', 'authorized', 'power of ', 'of a mortgage ', \n",
    "            'of foundation council of', '(rami makhlouf) ', '(through julex foundation)']\n",
    "    for word in to_del:\n",
    "        if word in txt:\n",
    "            txt = txt.replace(word, '')\n",
    "    if 'of' not in txt:\n",
    "        txt += ' of'\n",
    "    return ' '.join(txt.split())\n",
    "\n",
    "connections.text = connections['text'].map(enforce_description)\n",
    "connections.groupby('text').size().sort_values(ascending=False)"
   ]
  },
  {
   "cell_type": "markdown",
   "execution_count": null,
   "metadata": {},
   "outputs": [],
   "source": [
    "NOTE: There are two types of ownerships: legal owners, whom legaly own the property, and beneficiary owners, whom enjoy the ownership while not legaly owning the property."
   ]
  },
  {
   "cell_type": "code",
   "execution_count": 9,
   "metadata": {},
   "outputs": [],
   "source": [
    "connections.to_csv('data/clean.edges.csv')"
   ]
  }
 ]
}
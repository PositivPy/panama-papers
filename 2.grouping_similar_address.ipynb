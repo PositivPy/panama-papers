{
 "nbformat": 4,
 "nbformat_minor": 2,
 "metadata": {
  "language_info": {
   "name": "python",
   "codemirror_mode": {
    "name": "ipython",
    "version": 3
   },
   "version": "3.7.5-final"
  },
  "orig_nbformat": 2,
  "file_extension": ".py",
  "mimetype": "text/x-python",
  "name": "python",
  "npconvert_exporter": "python",
  "pygments_lexer": "ipython3",
  "version": 3,
  "kernelspec": {
   "name": "python37564bit72ba89a531ef4df18e1af0f065f1e4d6",
   "display_name": "Python 3.7.5 64-bit"
  }
 },
 "cells": [
  {
   "cell_type": "code",
   "execution_count": 1,
   "metadata": {},
   "outputs": [],
   "source": [
    "import pandas, numpy\n",
    "\n",
    "N_ROWS = 3"
   ]
  },
  {
   "cell_type": "markdown",
   "execution_count": null,
   "metadata": {},
   "outputs": [],
   "source": [
    "\n",
    "# II. Normalizing Addresses:\n",
    "## Abstract \n",
    "Some address are very similar and ought to be grouped together. \n",
    "\n",
    "Using fuzzy matching 42,368 addresses were matched to 15,416 unique addresses from a total of 93,454.\n",
    "\n",
    "Problems were found (4,154, or  26% of the resulting parent addresses), creating trees of relationships.\n",
    "NOTE: not exact :\n",
    "The address database is hereby reduced by 45% with 51,086 remaining unique addresses.\n",
    "\n",
    "## 0. Import and exploration:\n",
    "Loading relevant columns, all strings to lowercase, removing punctuation, and creating an empty parent_id column."
   ]
  },
  {
   "cell_type": "code",
   "execution_count": 2,
   "metadata": {},
   "outputs": [
    {
     "data": {
      "text/html": "<div>\n<style scoped>\n    .dataframe tbody tr th:only-of-type {\n        vertical-align: middle;\n    }\n\n    .dataframe tbody tr th {\n        vertical-align: top;\n    }\n\n    .dataframe thead th {\n        text-align: right;\n    }\n</style>\n<table border=\"1\" class=\"dataframe\">\n  <thead>\n    <tr style=\"text-align: right;\">\n      <th></th>\n      <th>address</th>\n      <th>countries</th>\n    </tr>\n    <tr>\n      <th>node_id</th>\n      <th></th>\n      <th></th>\n    </tr>\n  </thead>\n  <tbody>\n    <tr>\n      <th>14000001</th>\n      <td>- 27 rosewood drive  16-19 singapore 737920</td>\n      <td>singapore</td>\n    </tr>\n    <tr>\n      <th>14000002</th>\n      <td>\"almaly village\" v.5  almaty kazakhstan</td>\n      <td>kazakhstan</td>\n    </tr>\n    <tr>\n      <th>14000003</th>\n      <td>\"cantonia\" south road st georges hill weybridg...</td>\n      <td>united kingdom</td>\n    </tr>\n  </tbody>\n</table>\n</div>",
      "text/plain": "                                                    address       countries\nnode_id                                                                    \n14000001        - 27 rosewood drive  16-19 singapore 737920       singapore\n14000002            \"almaly village\" v.5  almaty kazakhstan      kazakhstan\n14000003  \"cantonia\" south road st georges hill weybridg...  united kingdom"
     },
     "execution_count": 2,
     "metadata": {},
     "output_type": "execute_result"
    }
   ],
   "source": [
    "address = pandas.read_csv('data/nodes.address.csv', usecols=['node_id', 'address', 'countries'], index_col='node_id')\n",
    "address = address.applymap( lambda _str: _str.lower() if isinstance( _str,str ) else _str )\n",
    "\n",
    "def remove_punctuation(_str):\n",
    "    for punc in [ ';', '#', ',', '|', '\\t' ]:\n",
    "        _str = _str.replace( punc, ' ' )\n",
    "    return _str\n",
    "    \n",
    "address.address = address.address.map( lambda _str: remove_punctuation(_str) if isinstance( _str,str) else _str )\n",
    "\n",
    "address.head(N_ROWS)"
   ]
  },
  {
   "cell_type": "markdown",
   "execution_count": null,
   "metadata": {},
   "outputs": [],
   "source": [
    "Very few address are direct duplicates:"
   ]
  },
  {
   "cell_type": "code",
   "execution_count": 3,
   "metadata": {},
   "outputs": [
    {
     "name": "stdout",
     "output_type": "stream",
     "text": "Total entries: 93454 \nDuplicates: 6 or 0%\nDuplicates:                                                     address   countries\nnode_id                                                                \n14021332       6 salah el din street  zamalek  cairo  egypt       egypt\n14022103                  77 robinson road  31-00 singapore   singapore\n14028059  arango orillac bldg.  2nd floor  54th street  ...      panama\n14065612           rincon 531  piso 7  oficina 702  uruguay     uruguay\n14077667  second floor  forum 4  grenville street  st he...      jersey\n14079083  suite 13  first floor  oliaji trade centre  fr...  seychelles\n"
    }
   ],
   "source": [
    "def get_duplicates( df, col ):\n",
    "    duplicates = df[ df.duplicated([col]) ]\n",
    "\n",
    "    total = df.shape[0]\n",
    "    unique = len( df[col].unique() )\n",
    "\n",
    "    duplicate_count = total - unique\n",
    "    duplicate_percent = int( (duplicate_count * 100) / total )\n",
    "\n",
    "    print( f'Total entries: {total} \\nDuplicates: {duplicate_count} or {duplicate_percent}%' )\n",
    "    return duplicates\n",
    "\n",
    "duplicates = get_duplicates( address, 'address' )\n",
    "print(f'Duplicates: {duplicates}')"
   ]
  },
  {
   "cell_type": "markdown",
   "execution_count": null,
   "metadata": {},
   "outputs": [],
   "source": [
    "## 1. Sanitizing street address:\n",
    "\n",
    "Removing the country from the address strings:\n",
    "\n",
    "The more edge cases we remove the better results we get from computing similarities.\n",
    "\n",
    "TODO: Extract and remove cities for better results; { '60 piers road; borrowdale; harare': ('12 hunt road borrowdale, harare', 79), ('12 hunt road; borrrowdale; harare', 77) }"
   ]
  },
  {
   "cell_type": "code",
   "execution_count": 4,
   "metadata": {},
   "outputs": [
    {
     "data": {
      "text/html": "<div>\n<style scoped>\n    .dataframe tbody tr th:only-of-type {\n        vertical-align: middle;\n    }\n\n    .dataframe tbody tr th {\n        vertical-align: top;\n    }\n\n    .dataframe thead th {\n        text-align: right;\n    }\n</style>\n<table border=\"1\" class=\"dataframe\">\n  <thead>\n    <tr style=\"text-align: right;\">\n      <th></th>\n      <th>address</th>\n      <th>countries</th>\n    </tr>\n    <tr>\n      <th>node_id</th>\n      <th></th>\n      <th></th>\n    </tr>\n  </thead>\n  <tbody>\n    <tr>\n      <th>14000001</th>\n      <td>- 27 rosewood drive  16-19  737920</td>\n      <td>singapore</td>\n    </tr>\n    <tr>\n      <th>14000002</th>\n      <td>\"almaly village\" v.5  almaty</td>\n      <td>kazakhstan</td>\n    </tr>\n    <tr>\n      <th>14000003</th>\n      <td>\"cantonia\" south road st georges hill weybridg...</td>\n      <td>united kingdom</td>\n    </tr>\n  </tbody>\n</table>\n</div>",
      "text/plain": "                                                    address       countries\nnode_id                                                                    \n14000001                 - 27 rosewood drive  16-19  737920       singapore\n14000002                       \"almaly village\" v.5  almaty      kazakhstan\n14000003  \"cantonia\" south road st georges hill weybridg...  united kingdom"
     },
     "execution_count": 4,
     "metadata": {},
     "output_type": "execute_result"
    }
   ],
   "source": [
    "def remove_country(text, *country_list):\n",
    "    if type(text) == float:\n",
    "        return text \n",
    "    for country in country_list:\n",
    "        if country in text:\n",
    "            text = text.replace(country, '')\n",
    "    return text.strip()\n",
    "\n",
    "country_list = list( address.countries.dropna().unique() )\n",
    "\n",
    "### add edge cases ###\n",
    "st_vincent = ['st. vincent & grenadines', 'st vincent and the grenadines', 'st vincent & the grenadines', \n",
    "            'saint-vincent and grenadines', 'saint-vincent', 'st. vincent', 'saint vincent', '& the grenadines']\n",
    "country_list = st_vincent + country_list\n",
    "country_list += ['vietnam', 'sengal', 'europe', 'republic of', 'zimbawe', 'zimabwe']\n",
    "\n",
    "address.address = address['address'].apply(remove_country, args=country_list)\n",
    "address.head(N_ROWS)"
   ]
  },
  {
   "cell_type": "markdown",
   "execution_count": null,
   "metadata": {},
   "outputs": [],
   "source": [
    "## 2. Fuzzy matching:\n",
    "\n",
    "#### !! Computationly heavy !!\n",
    "It is recomended to run this script on anything else than a Thinkpad X270 (Elapsed time: 1h30min), Amazon AWS being one of the better options. This notebook is thus deliberately limited to groups containing less than 50 unique strings. The actual results are included and loaded later.\n",
    "\n",
    "TODO: Find Big-O Notation"
   ]
  },
  {
   "cell_type": "code",
   "execution_count": 5,
   "metadata": {},
   "outputs": [
    {
     "name": "stdout",
     "output_type": "stream",
     "text": "Compared 1 in 0.0018134117126464844 sec\nCompared 18 in 0.008359670639038086 sec\nCompared 23 in 0.020578622817993164 sec\nCompared 17 in 0.010998725891113281 sec\nCompared 17 in 0.00950932502746582 sec\nCompared 19 in 0.034926652908325195 sec\nCompared 10 in 0.003962993621826172 sec\nCompared 38 in 0.05935072898864746 sec\nCompared 22 in 0.042871713638305664 sec\nCompared 35 in 0.04048776626586914 sec\nCompared 12 in 0.005051136016845703 sec\nCompared 38 in 0.03825998306274414 sec\nCompared 19 in 0.019723892211914062 sec\nCompared 45 in 0.10547828674316406 sec\nCompared 18 in 0.014898300170898438 sec\nCompared 7 in 0.0019183158874511719 sec\nCompared 23 in 0.01829242706298828 sec\nCompared 22 in 0.03971695899963379 sec\nCompared 38 in 0.08525586128234863 sec\nCompared 35 in 0.037343740463256836 sec\nCompared 3 in 0.0007693767547607422 sec\nCompared 2 in 0.0005311965942382812 sec\nCompared 3 in 0.0008034706115722656 sec\nCompared 31 in 0.02710413932800293 sec\nCompared 4 in 0.0008406639099121094 sec\nCompared 5 in 0.0018684864044189453 sec\nCompared 48 in 0.08833050727844238 sec\nCompared 28 in 0.03671145439147949 sec\nCompared 49 in 0.10675859451293945 sec\nCompared 1 in 0.0004994869232177734 sec\nCompared 23 in 0.017653703689575195 sec\nCompared 2 in 0.0006816387176513672 sec\nCompared 2 in 0.0005533695220947266 sec\nCompared 4 in 0.00102996826171875 sec\nCompared 12 in 0.003375530242919922 sec\nCompared 14 in 0.0053863525390625 sec\nCompared 1 in 0.0005471706390380859 sec\nCompared 25 in 0.026065587997436523 sec\nCompared 33 in 0.040506839752197266 sec\nCompared 1 in 0.0005919933319091797 sec\nCompared 1 in 0.001149892807006836 sec\nCompared 21 in 0.018247127532958984 sec\nCompared 43 in 0.06252765655517578 sec\nCompared 25 in 0.014290571212768555 sec\nCompared 21 in 0.01257014274597168 sec\nCompared 4 in 0.0008683204650878906 sec\nCompared 25 in 0.038117170333862305 sec\nCompared 12 in 0.0033321380615234375 sec\nCompared 38 in 0.02499699592590332 sec\nCompared 15 in 0.009330034255981445 sec\nCompared 15 in 0.011823892593383789 sec\nCompared 35 in 0.027353286743164062 sec\nCompared 33 in 0.025112152099609375 sec\nCompared 4 in 0.001405954360961914 sec\nCompared 20 in 0.010685920715332031 sec\nCompared 10 in 0.0034873485565185547 sec\nCompared 13 in 0.0043239593505859375 sec\nCompared 2 in 0.0005772113800048828 sec\nCompared 29 in 0.022684574127197266 sec\nCompared 2 in 0.0005879402160644531 sec\nCompared 4 in 0.0008287429809570312 sec\nCompared 10 in 0.0031175613403320312 sec\nCompared 9 in 0.003033161163330078 sec\nCompared 1 in 0.001277923583984375 sec\nCompared 1 in 0.0008649826049804688 sec\nCompared 3 in 0.0009729862213134766 sec\nCompared 27 in 0.04481053352355957 sec\nCompared 39 in 0.07243657112121582 sec\nCompared 3 in 0.0017707347869873047 sec\nCompared 15 in 0.0059354305267333984 sec\nCompared 13 in 0.012898683547973633 sec\nCompared 7 in 0.00932002067565918 sec\nCompared 21 in 0.013478755950927734 sec\nCompared 3 in 0.0007612705230712891 sec\nCompared 1 in 0.0005807876586914062 sec\nCompared 36 in 0.02802753448486328 sec\nCompared 1 in 0.0005085468292236328 sec\nCompared 7 in 0.0014371871948242188 sec\nCompared 46 in 0.0811922550201416 sec\nCompared 6 in 0.0010950565338134766 sec\nCompared 37 in 0.02922224998474121 sec\nCompared 1 in 0.0005600452423095703 sec\nCompared 12 in 0.010915994644165039 sec\nCompared 12 in 0.005045890808105469 sec\nCompared 19 in 0.01377558708190918 sec\nCompared 24 in 0.05365443229675293 sec\nCompared 21 in 0.015107870101928711 sec\nCompared 26 in 0.03422188758850098 sec\nCompared 27 in 0.037563323974609375 sec\nCompared 5 in 0.001298666000366211 sec\nCompared 6 in 0.0025446414947509766 sec\nCompared 32 in 0.06329870223999023 sec\nCompared 34 in 0.038208961486816406 sec\nCompared 32 in 0.022922039031982422 sec\nCompared 7 in 0.0016663074493408203 sec\nCompared 12 in 0.0038123130798339844 sec\nCompared 8 in 0.002213716506958008 sec\nCompared 27 in 0.009534597396850586 sec\nCompared 32 in 0.043857574462890625 sec\nCompared 3 in 0.0008661746978759766 sec\nTotal in: 1.245964527130127\n"
    }
   ],
   "source": [
    "from multiprocessing import Pool, cpu_count\n",
    "from fuzzywuzzy import fuzz, process\n",
    "import time\n",
    "\n",
    "# TODO: in production; yield the results as they come to the rest of the pipeline.\n",
    "# TODO: sort the groups by size, so the computation can start on the biggest group first (i.e: China with 20k address). This would decrease the total computation time.\n",
    "\n",
    "THRESHOLD = 75\n",
    "SELECTOR = 'address'\n",
    "GROUP = address.groupby('countries')\n",
    "LIMIT = 50\n",
    "\n",
    "def calculate_string_similarity(df):\n",
    "    t1 = time.time()\n",
    "\n",
    "    choices = set( df[ SELECTOR ].unique() )\n",
    "    seen = set()\n",
    "    results = dict()\n",
    "\n",
    "    choice_count = len(choices)\n",
    "    for i in range( choice_count-1 ):\n",
    "        choice = list(choices)[i]\n",
    "        if len(choice) < 2:\n",
    "            i += 1\n",
    "            continue\n",
    "\n",
    "        seen.add(choice)\n",
    "        new_choices = choices.difference(seen)\n",
    "        if len(new_choices) <= 1:\n",
    "            break\n",
    "\n",
    "        res = process.extract(choice, new_choices, scorer=fuzz.token_sort_ratio, limit=10000)\n",
    "        res = [ r[0] for r in res if r[1] > THRESHOLD ]\n",
    "\n",
    "        if len(res):\n",
    "            seen.update(res)\n",
    "            results[choice] = res\n",
    "        i += 1 \n",
    "\n",
    "    tt = time.time() - t1\n",
    "    print( f'Compared {choice_count} in {tt} sec' )\n",
    "    return results\n",
    "\n",
    "def gapply_parallel(df_group, func):\n",
    "    t1 = time.time()\n",
    "\n",
    "    if LIMIT:\n",
    "        df_list = [ group for name, group in df_group if group.shape[0] < LIMIT ]\n",
    "    else:\n",
    "        df_list = [ group for name, group in df_group ]\n",
    "\n",
    "    results = {}\n",
    "    with Pool( cpu_count() ) as pool:\n",
    "        for res in pool.map(func, df_list):\n",
    "            results.update( res )\n",
    "\n",
    "    results = pandas.DataFrame.from_dict(results,  orient='index')\n",
    "    results.reset_index(inplace=True)\n",
    "    #results = results.rename( {'index':'parent'} , axis=1)\n",
    "\n",
    "    print( f'Total in:', time.time()-t1 )\n",
    "    return results\n",
    "\n",
    "\n",
    "similar_str = gapply_parallel(GROUP, calculate_string_similarity)\n",
    "similar_str = similar_str.rename( {'index':'parent'} , axis=1)"
   ]
  },
  {
   "cell_type": "code",
   "execution_count": 6,
   "metadata": {},
   "outputs": [
    {
     "data": {
      "text/html": "<div>\n<style scoped>\n    .dataframe tbody tr th:only-of-type {\n        vertical-align: middle;\n    }\n\n    .dataframe tbody tr th {\n        vertical-align: top;\n    }\n\n    .dataframe thead th {\n        text-align: right;\n    }\n</style>\n<table border=\"1\" class=\"dataframe\">\n  <thead>\n    <tr style=\"text-align: right;\">\n      <th></th>\n      <th>parent</th>\n      <th>0</th>\n      <th>1</th>\n      <th>2</th>\n      <th>3</th>\n      <th>4</th>\n      <th>5</th>\n      <th>6</th>\n      <th>7</th>\n      <th>8</th>\n      <th>9</th>\n      <th>10</th>\n      <th>11</th>\n      <th>12</th>\n      <th>13</th>\n      <th>14</th>\n      <th>15</th>\n      <th>16</th>\n      <th>17</th>\n    </tr>\n  </thead>\n  <tbody>\n    <tr>\n      <th>15</th>\n      <td>6 temple street  st. john’s  antigua  w.i.</td>\n      <td>6 temple street  st. john's  antigua  w.i.)</td>\n      <td>temple street  st. john's  antigua  w.i.</td>\n      <td>^  temple street  st. john's  antigua  w.i.</td>\n      <td>of 6 temple street  st. john's  antigua  w.i.</td>\n      <td>6 temple street  st. john's  antigua</td>\n      <td>6 temple street  st. john's  antigua  west indies</td>\n      <td>6 temple stret  st john's</td>\n      <td>None</td>\n      <td>None</td>\n      <td>None</td>\n      <td>None</td>\n      <td>None</td>\n      <td>None</td>\n      <td>None</td>\n      <td>None</td>\n      <td>None</td>\n      <td>None</td>\n      <td>None</td>\n    </tr>\n    <tr>\n      <th>16</th>\n      <td>23-22 hrachya kochar street  yerevan</td>\n      <td>23-29 hrachya kochar street  yerevan</td>\n      <td>None</td>\n      <td>None</td>\n      <td>None</td>\n      <td>None</td>\n      <td>None</td>\n      <td>None</td>\n      <td>None</td>\n      <td>None</td>\n      <td>None</td>\n      <td>None</td>\n      <td>None</td>\n      <td>None</td>\n      <td>None</td>\n      <td>None</td>\n      <td>None</td>\n      <td>None</td>\n      <td>None</td>\n    </tr>\n    <tr>\n      <th>17</th>\n      <td>15-3 sundukyan st.  erevan</td>\n      <td>15-3 sundukyana st.  erevan</td>\n      <td>sundukyan str. 15-3  erevan   .</td>\n      <td>None</td>\n      <td>None</td>\n      <td>None</td>\n      <td>None</td>\n      <td>None</td>\n      <td>None</td>\n      <td>None</td>\n      <td>None</td>\n      <td>None</td>\n      <td>None</td>\n      <td>None</td>\n      <td>None</td>\n      <td>None</td>\n      <td>None</td>\n      <td>None</td>\n      <td>None</td>\n    </tr>\n  </tbody>\n</table>\n</div>",
      "text/plain": "                                        parent  \\\n15  6 temple street  st. john’s  antigua  w.i.   \n16        23-22 hrachya kochar street  yerevan   \n17                  15-3 sundukyan st.  erevan   \n\n                                              0  \\\n15  6 temple street  st. john's  antigua  w.i.)   \n16         23-29 hrachya kochar street  yerevan   \n17                  15-3 sundukyana st.  erevan   \n\n                                           1  \\\n15  temple street  st. john's  antigua  w.i.   \n16                                      None   \n17           sundukyan str. 15-3  erevan   .   \n\n                                              2  \\\n15  ^  temple street  st. john's  antigua  w.i.   \n16                                         None   \n17                                         None   \n\n                                                3  \\\n15  of 6 temple street  st. john's  antigua  w.i.   \n16                                           None   \n17                                           None   \n\n                                       4  \\\n15  6 temple street  st. john's  antigua   \n16                                  None   \n17                                  None   \n\n                                                    5  \\\n15  6 temple street  st. john's  antigua  west indies   \n16                                               None   \n17                                               None   \n\n                            6     7     8     9    10    11    12    13    14  \\\n15  6 temple stret  st john's  None  None  None  None  None  None  None  None   \n16                       None  None  None  None  None  None  None  None  None   \n17                       None  None  None  None  None  None  None  None  None   \n\n      15    16    17  \n15  None  None  None  \n16  None  None  None  \n17  None  None  None  "
     },
     "execution_count": 6,
     "metadata": {},
     "output_type": "execute_result"
    }
   ],
   "source": [
    "similar_str[ 15:18 ]"
   ]
  },
  {
   "cell_type": "markdown",
   "execution_count": null,
   "metadata": {},
   "outputs": [],
   "source": [
    "## 3. Creating addresss edges:\n",
    "Map all address strings to their node_id, using all cores available. \n",
    "\n",
    "#### Big-O = O*n"
   ]
  },
  {
   "cell_type": "code",
   "execution_count": 7,
   "metadata": {},
   "outputs": [
    {
     "name": "stdout",
     "output_type": "stream",
     "text": "Total time: 4.373776435852051\n"
    },
    {
     "data": {
      "text/html": "<div>\n<style scoped>\n    .dataframe tbody tr th:only-of-type {\n        vertical-align: middle;\n    }\n\n    .dataframe tbody tr th {\n        vertical-align: top;\n    }\n\n    .dataframe thead th {\n        text-align: right;\n    }\n</style>\n<table border=\"1\" class=\"dataframe\">\n  <thead>\n    <tr style=\"text-align: right;\">\n      <th></th>\n      <th>parent</th>\n      <th>0</th>\n      <th>1</th>\n      <th>2</th>\n      <th>3</th>\n      <th>4</th>\n      <th>5</th>\n      <th>6</th>\n      <th>7</th>\n      <th>8</th>\n      <th>9</th>\n      <th>10</th>\n      <th>11</th>\n      <th>12</th>\n      <th>13</th>\n      <th>14</th>\n      <th>15</th>\n      <th>16</th>\n      <th>17</th>\n    </tr>\n  </thead>\n  <tbody>\n    <tr>\n      <th>176</th>\n      <td>14000827</td>\n      <td>14089215</td>\n      <td>0</td>\n      <td>0</td>\n      <td>0</td>\n      <td>0</td>\n      <td>0</td>\n      <td>0</td>\n      <td>0</td>\n      <td>0</td>\n      <td>0</td>\n      <td>0</td>\n      <td>0</td>\n      <td>0</td>\n      <td>0</td>\n      <td>0</td>\n      <td>0</td>\n      <td>0</td>\n      <td>0</td>\n    </tr>\n    <tr>\n      <th>177</th>\n      <td>14023143</td>\n      <td>14023144</td>\n      <td>14062647</td>\n      <td>0</td>\n      <td>0</td>\n      <td>0</td>\n      <td>0</td>\n      <td>0</td>\n      <td>0</td>\n      <td>0</td>\n      <td>0</td>\n      <td>0</td>\n      <td>0</td>\n      <td>0</td>\n      <td>0</td>\n      <td>0</td>\n      <td>0</td>\n      <td>0</td>\n      <td>0</td>\n    </tr>\n    <tr>\n      <th>178</th>\n      <td>14062647</td>\n      <td>14062648</td>\n      <td>0</td>\n      <td>0</td>\n      <td>0</td>\n      <td>0</td>\n      <td>0</td>\n      <td>0</td>\n      <td>0</td>\n      <td>0</td>\n      <td>0</td>\n      <td>0</td>\n      <td>0</td>\n      <td>0</td>\n      <td>0</td>\n      <td>0</td>\n      <td>0</td>\n      <td>0</td>\n      <td>0</td>\n    </tr>\n  </tbody>\n</table>\n</div>",
      "text/plain": "       parent         0         1  2  3  4  5  6  7  8  9  10  11  12  13  14  \\\n176  14000827  14089215         0  0  0  0  0  0  0  0  0   0   0   0   0   0   \n177  14023143  14023144  14062647  0  0  0  0  0  0  0  0   0   0   0   0   0   \n178  14062647  14062648         0  0  0  0  0  0  0  0  0   0   0   0   0   0   \n\n     15  16  17  \n176   0   0   0  \n177   0   0   0  \n178   0   0   0  "
     },
     "execution_count": 7,
     "metadata": {},
     "output_type": "execute_result"
    }
   ],
   "source": [
    "def string_to_ID(df):\n",
    "    def func(x):\n",
    "        if isinstance(x, str):\n",
    "            return address.index[ address.address == x ][0]\n",
    "        return 0\n",
    "        \n",
    "    return df.applymap(func)\n",
    "\n",
    "def apply_parallel(df, func):\n",
    "    t1 = time.time()\n",
    "\n",
    "    _cpu_count = cpu_count()\n",
    "    df_split = numpy.array_split( df, _cpu_count )\n",
    "\n",
    "    with Pool( _cpu_count ) as pool:\n",
    "        res = pool.map( func, df_split )\n",
    "        try:\n",
    "            df = pandas.concat( res )\n",
    "        except ValueError:\n",
    "            # result could be a list of Nones\n",
    "            pass \n",
    "            \n",
    "    print(f'Total time:', time.time()-t1 )\n",
    "    return df\n",
    "\n",
    "similar_nodes = apply_parallel(similar_str, string_to_ID)\n",
    "similar_nodes.tail(N_ROWS)"
   ]
  },
  {
   "cell_type": "markdown",
   "execution_count": 22,
   "metadata": {},
   "outputs": [
    {
     "data": {
      "text/plain": "Expanding [min_periods=1,center=False,axis=0]"
     },
     "execution_count": 22,
     "metadata": {},
     "output_type": "execute_result"
    }
   ],
   "source": [
    "As parent/child pair:"
   ]
  },
  {
   "cell_type": "code",
   "execution_count": 8,
   "metadata": {},
   "outputs": [
    {
     "name": "stdout",
     "output_type": "stream",
     "text": "Total time: 0.4342162609100342\n"
    },
    {
     "data": {
      "text/html": "<div>\n<style scoped>\n    .dataframe tbody tr th:only-of-type {\n        vertical-align: middle;\n    }\n\n    .dataframe tbody tr th {\n        vertical-align: top;\n    }\n\n    .dataframe thead th {\n        text-align: right;\n    }\n</style>\n<table border=\"1\" class=\"dataframe\">\n  <thead>\n    <tr style=\"text-align: right;\">\n      <th></th>\n      <th>parent_id</th>\n      <th>child_id</th>\n    </tr>\n  </thead>\n  <tbody>\n    <tr>\n      <th>0</th>\n      <td>14103793</td>\n      <td>14103880</td>\n    </tr>\n    <tr>\n      <th>1</th>\n      <td>14062504</td>\n      <td>14026529</td>\n    </tr>\n    <tr>\n      <th>2</th>\n      <td>14036094</td>\n      <td>14025454</td>\n    </tr>\n  </tbody>\n</table>\n</div>",
      "text/plain": "   parent_id  child_id\n0   14103793  14103880\n1   14062504  14026529\n2   14036094  14025454"
     },
     "execution_count": 8,
     "metadata": {},
     "output_type": "execute_result"
    }
   ],
   "source": [
    "def flatten_to_pair(df):\n",
    "    return  ( similar_nodes.astype('Int64').where(similar_nodes.ne(0))\n",
    "                    .set_index('parent')\n",
    "                    .stack()\n",
    "                    .reset_index(level=0, name='child_id') )\n",
    "\n",
    "similar_nodes = apply_parallel(similar_nodes, flatten_to_pair)\n",
    "similar_nodes.rename( { 'parent' : 'parent_id'}, axis=1, inplace=True)\n",
    "similar_nodes.reset_index(drop=True, inplace=True)\n",
    "\n",
    "similar_nodes.head(N_ROWS)"
   ]
  },
  {
   "cell_type": "markdown",
   "execution_count": 527,
   "metadata": {},
   "outputs": [
    {
     "ename": "SyntaxError",
     "evalue": "invalid syntax (<ipython-input-527-8024209506ca>, line 1)",
     "output_type": "error",
     "traceback": [
      "\u001b[0;36m  File \u001b[0;32m\"<ipython-input-527-8024209506ca>\"\u001b[0;36m, line \u001b[0;32m1\u001b[0m\n\u001b[0;31m    Importing the full results \"address_similarity_results.csv\".\u001b[0m\n\u001b[0m                ^\u001b[0m\n\u001b[0;31mSyntaxError\u001b[0m\u001b[0;31m:\u001b[0m invalid syntax\n"
     ]
    }
   ],
   "source": [
    "## 4. Resolving problems to better quantify the results:\n",
    "Importing the pre-calculated full results from \"data/edges.address.csv\" and quantifying the results. Problems of type \"master->parent->child\" trees are counted."
   ]
  },
  {
   "cell_type": "code",
   "execution_count": 9,
   "metadata": {},
   "outputs": [
    {
     "name": "stdout",
     "output_type": "stream",
     "text": "* Reduced 42368 to 15416 from a total of 93454.\n            \n* Problems found: 4154 or 26% of the parents.\n            \n* Remaining: 55240. Reduction: -40%\n"
    }
   ],
   "source": [
    "similar_nodes = pandas.read_csv('data/edges.address.csv')\n",
    "\n",
    "def quantify_results():\n",
    "    original_count = address.shape[0]\n",
    "\n",
    "    parents = set( similar_nodes.parent_id )\n",
    "    unique_parents = len( parents )\n",
    "\n",
    "    children = set( similar_nodes.child_id )\n",
    "    unique_children = len( children )\n",
    "\n",
    "    problems = list( parents.intersection( children ))\n",
    "    problem_count = len( problems )\n",
    "    problem_percent = int( (problem_count * 100) / unique_parents )\n",
    "\n",
    "    remaining = original_count - unique_children + problem_count\n",
    "    reduction = int( 100 - (( remaining * 100 ) / original_count ))\n",
    "\n",
    "    print( f\"\"\"* Reduced {unique_children} to {unique_parents} from a total of {original_count}.\n",
    "            \\n* Problems found: {problem_count} or {problem_percent}% of the parents.\n",
    "            \\n* Remaining: {remaining}. Reduction: -{reduction}%\"\"\" )\n",
    "    return problems\n",
    "\n",
    "problems = quantify_results()"
   ]
  },
  {
   "cell_type": "markdown",
   "execution_count": null,
   "metadata": {},
   "outputs": [],
   "source": [
    "The next bit of code enables you to trace these problems. "
   ]
  },
  {
   "cell_type": "code",
   "execution_count": 10,
   "metadata": {},
   "outputs": [
    {
     "name": "stdout",
     "output_type": "stream",
     "text": "As parent: \n       parent_id  child_id\n29924   14032904  14032901\nAs child:\n       parent_id  child_id\n29915   14048554  14032904\nMaster 1:\n       parent_id  child_id\n29912   14048554  14048558\n29913   14048554  14048547\n29914   14048554  14048546\n29915   14048554  14032904\n29916   14048554  14032903\n\nTrace address:\n['c/o jackson russell  level 3  fonterra centre  9 princes st  auckland']\n\nMaster address:\n['level 3  fonterra centre  9 princes street  auckland']\n"
    }
   ],
   "source": [
    "def trace_problem(prob):\n",
    "    as_parent = similar_nodes[ similar_nodes.parent_id == prob ]\n",
    "    as_child = similar_nodes[ similar_nodes.child_id == prob ]\n",
    "\n",
    "    print(f'As parent: \\n{as_parent}\\nAs child:\\n{as_child}')\n",
    "\n",
    "    masters = list( as_child.parent_id )\n",
    "    for i in range( len(masters) ): \n",
    "        master = similar_nodes[ similar_nodes.parent_id == masters[i] ]\n",
    "        i += 1\n",
    "        print(f'Master {i}:\\n{master}')\n",
    "\n",
    "    print('\\nTrace address:')\n",
    "    print( list( address[ address.index == prob ]['address'] ))\n",
    "    print('\\nMaster address:')\n",
    "    print( list( address[ address.index == as_child.parent_id.iloc[0]]['address'] ))\n",
    "\n",
    "trace_problem(problems[5])"
   ]
  },
  {
   "cell_type": "markdown",
   "execution_count": 192,
   "metadata": {},
   "outputs": [
    {
     "ename": "SyntaxError",
     "evalue": "invalid syntax (<ipython-input-192-319df7df435e>, line 1)",
     "output_type": "error",
     "traceback": [
      "\u001b[0;36m  File \u001b[0;32m\"<ipython-input-192-319df7df435e>\"\u001b[0;36m, line \u001b[0;32m1\u001b[0m\n\u001b[0;31m    Transfering ownership:\u001b[0m\n\u001b[0m                        ^\u001b[0m\n\u001b[0;31mSyntaxError\u001b[0m\u001b[0;31m:\u001b[0m invalid syntax\n"
     ]
    }
   ],
   "source": [
    "The children's ownership could be transfered to the masters as follow; \n",
    "\n",
    "Unfortunately, this operation has to be single threaded as to not modify both the ownership of the masters and parents at the same time."
   ]
  },
  {
   "cell_type": "code",
   "execution_count": 15,
   "metadata": {},
   "outputs": [
    {
     "name": "stdout",
     "output_type": "stream",
     "text": "Total in: 0.0006613731384277344\n* Reduced 42368 to 11262 from a total of 93454.\n            \n* Problems found: 0 or 0% of the parents.\n            \n* Remaining: 51086. Reduction: -45%\n"
    }
   ],
   "source": [
    "t1 = time.time()\n",
    "\n",
    "for prob in problems:\n",
    "\n",
    "    as_parent = similar_nodes[ similar_nodes.parent_id == prob ]\n",
    "    as_child = similar_nodes[ similar_nodes.child_id == prob ]\n",
    "    master_id = list( as_child['parent_id' ])[0]\n",
    "    \n",
    "    similar_nodes.loc[similar_nodes.parent_id == prob, 'parent_id'] = master_id   \n",
    "tt = time.time() - t1\n",
    "\n",
    "print( f'Total in: {tt}')\n",
    "\n",
    "problems = quantify_results()"
   ]
  },
  {
   "cell_type": "markdown",
   "execution_count": 16,
   "metadata": {},
   "outputs": [
    {
     "ename": "SyntaxError",
     "evalue": "invalid syntax (<ipython-input-16-7131f1f45de5>, line 1)",
     "output_type": "error",
     "traceback": [
      "\u001b[0;36m  File \u001b[0;32m\"<ipython-input-16-7131f1f45de5>\"\u001b[0;36m, line \u001b[0;32m1\u001b[0m\n\u001b[0;31m    By grouping \"master->parent->child\" trees, we achive a 45% reduction of different address.\u001b[0m\n\u001b[0m              ^\u001b[0m\n\u001b[0;31mSyntaxError\u001b[0m\u001b[0;31m:\u001b[0m invalid syntax\n"
     ]
    }
   ],
   "source": [
    "By grouping \"master->parent->child\" trees, we achive a 45% reduction of the address dataset"
   ]
  },
  {
   "cell_type": "markdown",
   "execution_count": null,
   "metadata": {},
   "outputs": [],
   "source": [
    "## 5. Saving the results;\n",
    "### The results are kept as is with the trees, after all we are creating connections of similarities, not exactitudes.\n",
    "The results are concatenated to \"data/similarity.edges.csv\"."
   ]
  },
  {
   "cell_type": "code",
   "execution_count": 17,
   "metadata": {},
   "outputs": [],
   "source": [
    "# TODO: redo the whole of this"
   ]
  },
  {
   "cell_type": "code",
   "execution_count": 12,
   "metadata": {},
   "outputs": [
    {
     "data": {
      "text/plain": "True"
     },
     "execution_count": 12,
     "metadata": {},
     "output_type": "execute_result"
    }
   ],
   "source": [
    "edges = pandas.read_csv('data/clean.edges.csv', index_col=0)\n",
    "edges.start_id.isin( similar_nodes.child_id ).any()"
   ]
  },
  {
   "cell_type": "code",
   "execution_count": 13,
   "metadata": {},
   "outputs": [
    {
     "name": "stdout",
     "output_type": "stream",
     "text": "Total time: 50.74488615989685\n"
    }
   ],
   "source": [
    "def map_parent_id(df):\n",
    "    def func(_id):\n",
    "        return similar_nodes.loc[ similar_nodes.child_id == _id, 'parent_id' ].values[0]\n",
    "\n",
    "    df.start_id = df.start_id.map( func )\n",
    "    return df\n",
    "\n",
    "matching_address_edges = edges[ edges.start_id.isin( similar_nodes.child_id ) ]\n",
    "matching_address_edges = apply_parallel( matching_address_edges, map_parent_id )\n",
    "\n",
    "edges.update( matching_address_edges )"
   ]
  },
  {
   "cell_type": "code",
   "execution_count": 14,
   "metadata": {},
   "outputs": [
    {
     "data": {
      "text/plain": "51079"
     },
     "execution_count": 14,
     "metadata": {},
     "output_type": "execute_result"
    }
   ],
   "source": [
    "ed = edges[ edges.type == 'address' ]\n",
    "len( ed.start_id.unique() )"
   ]
  },
  {
   "cell_type": "code",
   "execution_count": null,
   "metadata": {},
   "outputs": [],
   "source": []
  }
 ]
}
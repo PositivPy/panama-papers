{
 "nbformat": 4,
 "nbformat_minor": 2,
 "metadata": {
  "language_info": {
   "name": "python",
   "codemirror_mode": {
    "name": "ipython",
    "version": 3
   }
  },
  "orig_nbformat": 2,
  "file_extension": ".py",
  "mimetype": "text/x-python",
  "name": "python",
  "npconvert_exporter": "python",
  "pygments_lexer": "ipython3",
  "version": 3
 },
 "cells": [
  {
   "cell_type": "markdown",
   "execution_count": null,
   "metadata": {},
   "outputs": [],
   "source": [
    "# Data Analysis Exercise on the Panama Papers\n",
    "Due to the large size of this exercise, the notebook is split into multiple sections:\n",
    "\n",
    "[1. Normalizing edge data](normalizing_edges.ipynb)\n",
    "    \n",
    "---- a. Normalizing relationship types\n",
    "\n",
    "---- b. Normalizing relationship descriptions\n",
    "\n",
    "\n",
    "[2. Normalizing address data](normalizing_address.ipynb)\n",
    "\n",
    "---- a. Sanitizing street address\n",
    "\n",
    "---- b. Grouping address by string similarity"
   ]
  },
  {
   "cell_type": "code",
   "execution_count": null,
   "metadata": {},
   "outputs": [],
   "source": []
  }
 ]
}
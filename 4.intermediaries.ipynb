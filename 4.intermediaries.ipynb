{
 "cells": [
  {
   "cell_type": "code",
   "execution_count": 2,
   "metadata": {},
   "outputs": [
    {
     "name": "stdout",
     "output_type": "stream",
     "text": [
      "Populating the interactive namespace from numpy and matplotlib\n"
     ]
    }
   ],
   "source": [
    "import pandas, numpy, time\n",
    "from multiprocessing import Pool, cpu_count\n",
    "\n",
    "%matplotlib inline\n",
    "%pylab inline\n",
    "pylab.rcParams['figure.figsize'] = (15, 9)   # Change the size of plots\n",
    "\n",
    "N_ROWS = 3"
   ]
  },
  {
   "cell_type": "markdown",
   "metadata": {},
   "source": [
    "# III. Grouping and Normalizing Officers:\n",
    "## Abstract \n",
    "\n",
    "\n",
    "\n",
    "## 0. Import and cleansing:\n",
    "Importing the dataset all lowercase, adding a parent_id column. Removing details from some names; ex: { boshen ltd./137-93, boshen ltd./136-83, boshen ltd./134-61 }. An upgrade could move these details to the notes. "
   ]
  },
  {
   "cell_type": "code",
   "execution_count": 3,
   "metadata": {},
   "outputs": [
    {
     "data": {
      "text/html": [
       "<div>\n",
       "<style scoped>\n",
       "    .dataframe tbody tr th:only-of-type {\n",
       "        vertical-align: middle;\n",
       "    }\n",
       "\n",
       "    .dataframe tbody tr th {\n",
       "        vertical-align: top;\n",
       "    }\n",
       "\n",
       "    .dataframe thead th {\n",
       "        text-align: right;\n",
       "    }\n",
       "</style>\n",
       "<table border=\"1\" class=\"dataframe\">\n",
       "  <thead>\n",
       "    <tr style=\"text-align: right;\">\n",
       "      <th></th>\n",
       "      <th>name</th>\n",
       "      <th>countries</th>\n",
       "      <th>parent_id</th>\n",
       "    </tr>\n",
       "    <tr>\n",
       "      <th>node_id</th>\n",
       "      <th></th>\n",
       "      <th></th>\n",
       "      <th></th>\n",
       "    </tr>\n",
       "  </thead>\n",
       "  <tbody>\n",
       "    <tr>\n",
       "      <th>11000001</th>\n",
       "      <td>michael papageorge mr</td>\n",
       "      <td>south africa</td>\n",
       "      <td>0</td>\n",
       "    </tr>\n",
       "    <tr>\n",
       "      <th>11000002</th>\n",
       "      <td>corfiducia anstalt</td>\n",
       "      <td>liechtenstein</td>\n",
       "      <td>0</td>\n",
       "    </tr>\n",
       "    <tr>\n",
       "      <th>11000003</th>\n",
       "      <td>david ronald</td>\n",
       "      <td>monaco</td>\n",
       "      <td>0</td>\n",
       "    </tr>\n",
       "  </tbody>\n",
       "</table>\n",
       "</div>"
      ],
      "text/plain": [
       "                           name      countries  parent_id\n",
       "node_id                                                  \n",
       "11000001  michael papageorge mr   south africa          0\n",
       "11000002     corfiducia anstalt  liechtenstein          0\n",
       "11000003           david ronald         monaco          0"
      ]
     },
     "execution_count": 3,
     "metadata": {},
     "output_type": "execute_result"
    }
   ],
   "source": [
    "officer_nodes = pandas.read_csv('data/raw/nodes.intermediary.csv', usecols=['node_id', 'name', 'countries'], index_col='node_id')\n",
    "officer_nodes['parent_id'] = 0\n",
    "\n",
    "officer_nodes = officer_nodes.applymap( lambda _str: _str.lower() if isinstance( _str,str ) else _str )\n",
    "\n",
    "def remove_punctuation(_str):\n",
    "    # TODO: replace with string.puctuation \n",
    "    for punc in [ ';', '#', ',', '|', '\\t', '\"', '/', '.', '(', ')', '-', '^', '_' ]:\n",
    "        _str = _str.replace( punc, ' ' )\n",
    "    return ' '.join(_str.split())\n",
    "    \n",
    "officer_nodes.name = officer_nodes.name.map( lambda _str: remove_punctuation(_str) if isinstance( _str,str) else _str )\n",
    "\n",
    "officer_nodes.head( N_ROWS )"
   ]
  },
  {
   "cell_type": "markdown",
   "metadata": {},
   "source": [
    "This database is relatively large, thankfully over 50% of the entries seemed to be duplicates:"
   ]
  },
  {
   "cell_type": "code",
   "execution_count": 4,
   "metadata": {},
   "outputs": [
    {
     "name": "stdout",
     "output_type": "stream",
     "text": [
      "* Total entries: 14110 \n",
      "* Duplicates: 231 or 1%\n"
     ]
    }
   ],
   "source": [
    "def count_duplicates( df, col ):\n",
    "    duplicates = df[ df.duplicated([ col ]) ]\n",
    "\n",
    "    total = df.shape[0]\n",
    "    unique = len( df[ col ].unique() )\n",
    "\n",
    "    duplicate_count = total - unique\n",
    "    duplicate_percent = int( (duplicate_count * 100) / total )\n",
    "\n",
    "    print( f'* Total entries: {total} \\n* Duplicates: {duplicate_count} or {duplicate_percent}%' )\n",
    "\n",
    "count_duplicates( officer_nodes, 'name' )\n",
    "\n",
    "# for record\n",
    "total = officer_nodes.shape[0]"
   ]
  },
  {
   "cell_type": "markdown",
   "metadata": {},
   "source": [
    "## 1. Normalizing \"bearer\" nodes:"
   ]
  },
  {
   "cell_type": "code",
   "execution_count": 5,
   "metadata": {},
   "outputs": [
    {
     "data": {
      "text/plain": [
       "name\n",
       "companhia de navegação norsul      2\n",
       "p s j alexander & co ltd           2\n",
       "estudio cr caterina gomez lagas    2\n",
       "dtype: int64"
      ]
     },
     "execution_count": 5,
     "metadata": {},
     "output_type": "execute_result"
    }
   ],
   "source": [
    "officer_nodes.groupby('name').size().sort_values(ascending=False).head( N_ROWS )"
   ]
  },
  {
   "cell_type": "markdown",
   "metadata": {},
   "source": [
    "Bearers cannot be grouped into a single ID as they could represent different officers, thus only typos and translations are normalized."
   ]
  },
  {
   "cell_type": "code",
   "execution_count": 6,
   "metadata": {
    "scrolled": false
   },
   "outputs": [
    {
     "data": {
      "text/plain": [
       "name\n",
       "companhia de navegação norsul      2\n",
       "p s j alexander & co ltd           2\n",
       "estudio cr caterina gomez lagas    2\n",
       "dtype: int64"
      ]
     },
     "execution_count": 6,
     "metadata": {},
     "output_type": "execute_result"
    }
   ],
   "source": [
    "bearer_nodes = officer_nodes.name.isin(\n",
    "    ['the  bearer', 'el portador', 'bearer', 'baerer',\n",
    "    'the baerer', 'the bearer', 'the beare', 'the ebarer',\n",
    "    'the beearer', 'the beared', 'el portaror', 'el portdor',\n",
    "    'the berear', 'el protador', 'the barer', 'bearr', 'the bear', \n",
    "    'elportador', 'al protador', 'al portador', 'to bearer'] \n",
    "    ) \n",
    "officer_nodes.loc[ bearer_nodes, 'name' ] = 'the bearer'\n",
    "\n",
    "# to quantify results\n",
    "bearer_nodes = officer_nodes[officer_nodes.name == 'the bearer']\n",
    "\n",
    "officer_nodes.groupby('name').size().sort_values(ascending=False).head( N_ROWS )"
   ]
  },
  {
   "cell_type": "markdown",
   "metadata": {},
   "source": [
    "## 2. Removing direct duplicates:\n",
    "27% of the rest of the nodes (non bearer nodes) are exact duplicates:"
   ]
  },
  {
   "cell_type": "code",
   "execution_count": 7,
   "metadata": {},
   "outputs": [
    {
     "name": "stdout",
     "output_type": "stream",
     "text": [
      "OTHER NODES\n",
      "* Total entries: 14110 \n",
      "* Duplicates: 231 or 1%\n"
     ]
    }
   ],
   "source": [
    "officer_nodes = officer_nodes[ officer_nodes.name != 'the bearer']\n",
    "\n",
    "print('OTHER NODES')\n",
    "count_duplicates( officer_nodes, 'name' )"
   ]
  },
  {
   "cell_type": "markdown",
   "metadata": {},
   "source": [
    "Maping the parent's ids to their exact duplicates."
   ]
  },
  {
   "cell_type": "code",
   "execution_count": 8,
   "metadata": {},
   "outputs": [
    {
     "name": "stdout",
     "output_type": "stream",
     "text": [
      "* Total in: 0.3736858367919922\n"
     ]
    }
   ],
   "source": [
    "duplicates = officer_nodes.name.duplicated(keep=False)\n",
    "\n",
    "def map_parent_id(df):\n",
    "    # parent_id is the first row's node_id\n",
    "    parent_id = df.index[0]\n",
    "    # children are the rest of the rows\n",
    "    df.iloc[ 1:, df.columns.get_indexer(['parent_id']) ] = parent_id\n",
    "    return df\n",
    "\n",
    "def gapply_parallel(df_group, func):\n",
    "    t1 = time.time()\n",
    "\n",
    "    df_list = [ group for name, group in df_group ]\n",
    "\n",
    "    with Pool( cpu_count() ) as pool:\n",
    "        results = pool.map(func, df_list)\n",
    "\n",
    "    result_df = pandas.concat( results )\n",
    "\n",
    "    print( f'* Total in:', time.time()-t1 )\n",
    "    return result_df\n",
    "\n",
    "group_duplicates = officer_nodes.loc[ duplicates ].groupby('name')\n",
    "\n",
    "matches = gapply_parallel( group_duplicates, map_parent_id )\n",
    "\n",
    "officer_nodes.update(matches)\n",
    "officer_nodes.parent_id = officer_nodes.parent_id.astype('Int64')"
   ]
  },
  {
   "cell_type": "code",
   "execution_count": 9,
   "metadata": {},
   "outputs": [
    {
     "name": "stdout",
     "output_type": "stream",
     "text": [
      "Duplicates mapped: 231\n"
     ]
    },
    {
     "data": {
      "text/html": [
       "<div>\n",
       "<style scoped>\n",
       "    .dataframe tbody tr th:only-of-type {\n",
       "        vertical-align: middle;\n",
       "    }\n",
       "\n",
       "    .dataframe tbody tr th {\n",
       "        vertical-align: top;\n",
       "    }\n",
       "\n",
       "    .dataframe thead th {\n",
       "        text-align: right;\n",
       "    }\n",
       "</style>\n",
       "<table border=\"1\" class=\"dataframe\">\n",
       "  <thead>\n",
       "    <tr style=\"text-align: right;\">\n",
       "      <th></th>\n",
       "      <th>name</th>\n",
       "      <th>countries</th>\n",
       "      <th>parent_id</th>\n",
       "    </tr>\n",
       "    <tr>\n",
       "      <th>node_id</th>\n",
       "      <th></th>\n",
       "      <th></th>\n",
       "      <th></th>\n",
       "    </tr>\n",
       "  </thead>\n",
       "  <tbody>\n",
       "    <tr>\n",
       "      <th>11001828</th>\n",
       "      <td>leumi overseas trust corporation limited</td>\n",
       "      <td>jersey;united kingdom</td>\n",
       "      <td>11000883</td>\n",
       "    </tr>\n",
       "    <tr>\n",
       "      <th>11002119</th>\n",
       "      <td>p s j alexander &amp; co ltd</td>\n",
       "      <td>united kingdom</td>\n",
       "      <td>11001787</td>\n",
       "    </tr>\n",
       "    <tr>\n",
       "      <th>11002221</th>\n",
       "      <td>acquarius trust co ltd</td>\n",
       "      <td>NaN</td>\n",
       "      <td>11001411</td>\n",
       "    </tr>\n",
       "  </tbody>\n",
       "</table>\n",
       "</div>"
      ],
      "text/plain": [
       "                                              name              countries  \\\n",
       "node_id                                                                     \n",
       "11001828  leumi overseas trust corporation limited  jersey;united kingdom   \n",
       "11002119                  p s j alexander & co ltd         united kingdom   \n",
       "11002221                    acquarius trust co ltd                    NaN   \n",
       "\n",
       "          parent_id  \n",
       "node_id              \n",
       "11001828   11000883  \n",
       "11002119   11001787  \n",
       "11002221   11001411  "
      ]
     },
     "execution_count": 9,
     "metadata": {},
     "output_type": "execute_result"
    }
   ],
   "source": [
    "duplicates_mapped = officer_nodes[ officer_nodes.parent_id > 0]\n",
    "print('Duplicates mapped:', duplicates_mapped.shape[0])\n",
    "\n",
    "duplicates_mapped.head(N_ROWS)"
   ]
  },
  {
   "cell_type": "markdown",
   "metadata": {},
   "source": [
    "Saving the results in the clean 'data/output/edges.csv':"
   ]
  },
  {
   "cell_type": "code",
   "execution_count": 10,
   "metadata": {},
   "outputs": [],
   "source": [
    "edges = pandas.read_csv('data/processing/edges.csv')\n",
    "duplicate_nodes = duplicates_mapped.index\n",
    "\n",
    "def duplicate_to_parent(_id):\n",
    "    if _id in duplicate_nodes:\n",
    "        return duplicates_mapped.loc[_id, 'parent_id']\n",
    "    return _id\n",
    "    \n",
    "edges['start_id'] = edges['start_id'].apply(duplicate_to_parent)\n",
    "edges['end_id'] = edges['end_id'].apply(duplicate_to_parent)"
   ]
  },
  {
   "cell_type": "markdown",
   "metadata": {},
   "source": [
    "## 3. Splitting companies and people:\n",
    "The dataset is a mix of companies and people's name, we ought to separate these types of entities for further analysis."
   ]
  },
  {
   "cell_type": "code",
   "execution_count": 11,
   "metadata": {},
   "outputs": [],
   "source": [
    "officer_nodes = officer_nodes.loc[(officer_nodes.parent_id == 0) & officer_nodes.name.notna()]"
   ]
  },
  {
   "cell_type": "markdown",
   "metadata": {},
   "source": [
    "To extract companies, a corpus of tokens was compiled by selecting relevant words from a frequency analysis on all strings. Laborious process but very accurate as it eliminates errors from typos."
   ]
  },
  {
   "cell_type": "code",
   "execution_count": 12,
   "metadata": {},
   "outputs": [],
   "source": [
    "company_tokens = set(open(\"data/company_markers.txt\", \"r\").read().split())\n",
    "\n",
    "def is_company(_str):\n",
    "    # s.a. stands for sociedad anonima (anonymous company)\n",
    "    if ' s a' in _str:\n",
    "        return True\n",
    "    \n",
    "    _list = _str.split()\n",
    "    for w in _list:\n",
    "        if w in company_tokens:\n",
    "            return True\n",
    "    return False\n",
    "\n",
    "companies = officer_nodes.loc[officer_nodes.name.apply(is_company)] # boolean indexing returns a copy\n",
    "companies = officer_nodes.loc[companies.index]  # as a view\n",
    "\n",
    "names = officer_nodes.drop(companies.index)\n",
    "names = names.loc[ names.name.notna() ]"
   ]
  },
  {
   "cell_type": "markdown",
   "metadata": {},
   "source": [
    "## 4. Companies:\n",
    "More duplicates are found by simply removing all digits from the strings and sorting them. The digits are assumed to be details, typos or other unecessary markers."
   ]
  },
  {
   "cell_type": "code",
   "execution_count": 13,
   "metadata": {},
   "outputs": [
    {
     "name": "stdout",
     "output_type": "stream",
     "text": [
      "* Total entries: 6384 \n",
      "* Duplicates: 16 or 0%\n"
     ]
    }
   ],
   "source": [
    "def remove_digits(_str):\n",
    "    return ''.join(list(filter(lambda x: not x.isdigit(), _str)))\n",
    "\n",
    "def sort_string(_str):\n",
    "    _str = _str.split()\n",
    "    _str.sort() \n",
    "    return ' '.join(_str)\n",
    "\n",
    "companies['name'] = companies['name'].apply(remove_digits)\n",
    "companies['name'] = companies['name'].apply(sort_string)\n",
    "\n",
    "count_duplicates(companies, 'name')"
   ]
  },
  {
   "cell_type": "markdown",
   "metadata": {},
   "source": [
    "Removing duplicates:"
   ]
  },
  {
   "cell_type": "code",
   "execution_count": 14,
   "metadata": {},
   "outputs": [
    {
     "name": "stdout",
     "output_type": "stream",
     "text": [
      "* Total in: 0.26160526275634766\n"
     ]
    }
   ],
   "source": [
    "def remove_duplicates(df, edges):\n",
    "    duplicates = df.name.duplicated(keep=False)\n",
    "    group_duplicates = df.loc[ duplicates ].groupby('name')\n",
    "\n",
    "    matches = gapply_parallel( group_duplicates, map_parent_id )\n",
    "\n",
    "    df.update(matches)\n",
    "    df.parent_id = companies.parent_id.astype('Int64')\n",
    "\n",
    "    edges['start_id'] = edges['start_id'].apply(duplicate_to_parent)\n",
    "    edges['end_id'] = edges['end_id'].apply(duplicate_to_parent)\n",
    "    \n",
    "    return df, edges\n",
    "\n",
    "companies, edges = remove_duplicates(companies, edges)\n",
    "\n",
    "duplicate_companies = companies[companies.parent_id > 0]\n",
    "companies = companies.drop(duplicate_companies.index)\n",
    "\n",
    "duplicate_companies.head(N_ROWS)\n",
    "edges.to_csv('data/processing/edges.csv', index=False)"
   ]
  },
  {
   "cell_type": "markdown",
   "metadata": {},
   "source": [
    "## 5. People:\n"
   ]
  },
  {
   "cell_type": "code",
   "execution_count": 15,
   "metadata": {},
   "outputs": [
    {
     "name": "stdout",
     "output_type": "stream",
     "text": [
      "* Total entries: 7495 \n",
      "* Duplicates: 25 or 0%\n"
     ]
    }
   ],
   "source": [
    "to_remove = ['the', 'mr', 'm', 'miss', 'bearer', 'share', \n",
    "             'shares', 'beaer', 'warrant']\n",
    "\n",
    "# TODO : \n",
    "#remove_digit\n",
    "#remove_tokens\n",
    "#sort_string\n",
    "\n",
    "def sanitize_names(_str):\n",
    "    _str = remove_digits(_str)\n",
    "    \n",
    "    as_list = _str.split()\n",
    "    as_list = [ w for w in as_list if w not in to_remove ]\n",
    "    \n",
    "    as_list.sort()\n",
    "    \n",
    "    if len(as_list) > 0:\n",
    "        return ' '.join(as_list)\n",
    "    else:\n",
    "        return numpy.NaN\n",
    "\n",
    "names.name = names.name.map( lambda _str: sanitize_names(_str) if isinstance( _str,str) else _str )\n",
    "names = names.loc[ names.name.notna() ]\n",
    "\n",
    "count_duplicates(names, 'name')"
   ]
  },
  {
   "cell_type": "markdown",
   "metadata": {},
   "source": [
    "As important details have been removed, like the number of shares the person owns, we create new edges of type 'is'."
   ]
  },
  {
   "cell_type": "code",
   "execution_count": 16,
   "metadata": {},
   "outputs": [
    {
     "name": "stdout",
     "output_type": "stream",
     "text": [
      "* Total in: 0.1606917381286621\n"
     ]
    },
    {
     "data": {
      "text/html": [
       "<div>\n",
       "<style scoped>\n",
       "    .dataframe tbody tr th:only-of-type {\n",
       "        vertical-align: middle;\n",
       "    }\n",
       "\n",
       "    .dataframe tbody tr th {\n",
       "        vertical-align: top;\n",
       "    }\n",
       "\n",
       "    .dataframe thead th {\n",
       "        text-align: right;\n",
       "    }\n",
       "</style>\n",
       "<table border=\"1\" class=\"dataframe\">\n",
       "  <thead>\n",
       "    <tr style=\"text-align: right;\">\n",
       "      <th></th>\n",
       "      <th>parent_id</th>\n",
       "      <th>type</th>\n",
       "      <th>text</th>\n",
       "    </tr>\n",
       "    <tr>\n",
       "      <th>node_id</th>\n",
       "      <th></th>\n",
       "      <th></th>\n",
       "      <th></th>\n",
       "    </tr>\n",
       "  </thead>\n",
       "  <tbody>\n",
       "    <tr>\n",
       "      <th>11002454</th>\n",
       "      <td>11002026</td>\n",
       "      <td>is</td>\n",
       "      <td>same person</td>\n",
       "    </tr>\n",
       "    <tr>\n",
       "      <th>11003019</th>\n",
       "      <td>11002152</td>\n",
       "      <td>is</td>\n",
       "      <td>same person</td>\n",
       "    </tr>\n",
       "    <tr>\n",
       "      <th>11003099</th>\n",
       "      <td>11000850</td>\n",
       "      <td>is</td>\n",
       "      <td>same person</td>\n",
       "    </tr>\n",
       "  </tbody>\n",
       "</table>\n",
       "</div>"
      ],
      "text/plain": [
       "         parent_id type         text\n",
       "node_id                             \n",
       "11002454  11002026   is  same person\n",
       "11003019  11002152   is  same person\n",
       "11003099  11000850   is  same person"
      ]
     },
     "execution_count": 16,
     "metadata": {},
     "output_type": "execute_result"
    }
   ],
   "source": [
    "duplicate_names = names[names.name.duplicated(keep=False)]\n",
    "group_duplicates = duplicate_names.groupby('name')\n",
    "\n",
    "matches = gapply_parallel( group_duplicates, map_parent_id )\n",
    "\n",
    "names.update(matches)\n",
    "\n",
    "new_edges = names[names.parent_id > 0].drop(['name', 'countries'], axis=1)\n",
    "new_edges['type'] = 'is'\n",
    "new_edges['text'] = 'same person'\n",
    "\n",
    "names = names[names.parent_id == 0]\n",
    "new_edges.head(N_ROWS)"
   ]
  },
  {
   "cell_type": "code",
   "execution_count": 17,
   "metadata": {},
   "outputs": [],
   "source": [
    "new_edges.to_csv('data/processing/is.edges.csv')"
   ]
  },
  {
   "cell_type": "markdown",
   "metadata": {},
   "source": [
    "## 6. Results:"
   ]
  },
  {
   "cell_type": "code",
   "execution_count": 22,
   "metadata": {},
   "outputs": [
    {
     "data": {
      "text/plain": [
       "<matplotlib.axes._subplots.AxesSubplot at 0x7f054ee149d0>"
      ]
     },
     "execution_count": 22,
     "metadata": {},
     "output_type": "execute_result"
    },
    {
     "data": {
      "image/png": "[encoded data removed]",
      "text/plain": [
       "<Figure size 1080x648 with 1 Axes>"
      ]
     },
     "metadata": {},
     "output_type": "display_data"
    }
   ],
   "source": [
    "total_duplicates = ( duplicates_mapped.shape[0] \n",
    "                    + duplicate_companies.shape[0]\n",
    "                    + duplicate_names.shape[0] )\n",
    "\n",
    "data = numpy.array([ bearer_nodes.shape[0],\n",
    "                   companies.shape[0],\n",
    "                   names.shape[0],\n",
    "                   duplicates_mapped.shape[0] ])\n",
    "\n",
    "na = total - data.sum()\n",
    "data = numpy.append(data, na)\n",
    "\n",
    "s = pandas.Series(data, index=['the bearer', 'Companies', 'People', 'Duplicates', 'NaN'],\n",
    "                 name=' ')\n",
    "\n",
    "#as percentage of the total\n",
    "s.apply(lambda x: (x*100)/total)\n",
    "\n",
    "s.plot.pie(y=s.index, autopct='%1.1f%%', startangle=90)"
   ]
  },
  {
   "cell_type": "markdown",
   "metadata": {},
   "source": [
    "TODO: save type people and company in original df"
   ]
  }
 ],
 "metadata": {
  "file_extension": ".py",
  "kernelspec": {
   "display_name": "Python 3.7.5 64-bit",
   "language": "python",
   "name": "python37564bit72ba89a531ef4df18e1af0f065f1e4d6"
  },
  "language_info": {
   "codemirror_mode": {
    "name": "ipython",
    "version": 3
   },
   "file_extension": ".py",
   "mimetype": "text/x-python",
   "name": "python",
   "nbconvert_exporter": "python",
   "pygments_lexer": "ipython3",
   "version": "3.7.5"
  },
  "mimetype": "text/x-python",
  "name": "python",
  "npconvert_exporter": "python",
  "pygments_lexer": "ipython3",
  "version": 3
 },
 "nbformat": 4,
 "nbformat_minor": 2
}
